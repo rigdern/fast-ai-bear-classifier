{
  "cells": [
    {
      "cell_type": "code",
      "execution_count": 2,
      "metadata": {
        "id": "xInrgGJAC5nz"
      },
      "outputs": [],
      "source": [
        "from fastai.vision.all import *\n",
        "from fastai.vision.widgets import *"
      ]
    },
    {
      "cell_type": "code",
      "execution_count": 4,
      "metadata": {
        "id": "rQu17StOFM8y"
      },
      "outputs": [],
      "source": [
        "learn_inf = load_learner('./model.pkl')"
      ]
    },
    {
      "cell_type": "code",
      "execution_count": 5,
      "metadata": {
        "colab": {
          "base_uri": "https://localhost:8080/",
          "height": 273,
          "referenced_widgets": [
            "0110beab16c84680a34631866bf52176",
            "8223646274ab43dcaa695848e03fd27e",
            "844c16ed2c454399a11690f6dbab06d1",
            "3bddc1c7aa384d8f8f4e8cfc72e3df5e",
            "5dd6876d742c4eda87780bb4a9b724cf",
            "a13628f0bb2b478990bfd36852f28099",
            "c7b42e7c60e24f00a56bdcea4190e433",
            "35d1b27fd3284d0d8f4b77d3eaa29081",
            "c2c4b964e6f144eebac0bd9c063f2c0f",
            "6f2e39ba39014dedaa082d8ce972779a",
            "c1f10dcf92544288b856d34c74805031",
            "ad8b474d4d93404ba19ef0ee17f4b74f",
            "675b40203cda473291e836252fb3bbdb",
            "a182cb6d61124b3397fb0bfb90060538",
            "dc3876cedf6d43d49a20172149470d7d",
            "4980ebd8ffba4171969e80bdd83f4a0f"
          ]
        },
        "id": "1xnp359r-fhB",
        "outputId": "869f5e4c-fa04-407f-e230-15b66393e15d"
      },
      "outputs": [
        {
          "data": {
            "application/vnd.jupyter.widget-view+json": {
              "model_id": "0110beab16c84680a34631866bf52176",
              "version_major": 2,
              "version_minor": 0
            },
            "text/plain": [
              "VBox(children=(Label(value='Select your bear!'), FileUpload(value={}, description='Upload'), Button(descriptio…"
            ]
          },
          "metadata": {},
          "output_type": "display_data"
        },
        {
          "data": {
            "text/html": [
              "\n",
              "<style>\n",
              "    /* Turns off some styling */\n",
              "    progress {\n",
              "        /* gets rid of default border in Firefox and Opera. */\n",
              "        border: none;\n",
              "        /* Needs to be in here for Safari polyfill so background images work as expected. */\n",
              "        background-size: auto;\n",
              "    }\n",
              "    progress:not([value]), progress:not([value])::-webkit-progress-bar {\n",
              "        background: repeating-linear-gradient(45deg, #7e7e7e, #7e7e7e 10px, #5c5c5c 10px, #5c5c5c 20px);\n",
              "    }\n",
              "    .progress-bar-interrupted, .progress-bar-interrupted::-webkit-progress-bar {\n",
              "        background: #F44336;\n",
              "    }\n",
              "</style>\n"
            ],
            "text/plain": [
              "<IPython.core.display.HTML object>"
            ]
          },
          "metadata": {},
          "output_type": "display_data"
        },
        {
          "data": {
            "text/html": [],
            "text/plain": [
              "<IPython.core.display.HTML object>"
            ]
          },
          "metadata": {},
          "output_type": "display_data"
        },
        {
          "data": {
            "text/html": [
              "\n",
              "<style>\n",
              "    /* Turns off some styling */\n",
              "    progress {\n",
              "        /* gets rid of default border in Firefox and Opera. */\n",
              "        border: none;\n",
              "        /* Needs to be in here for Safari polyfill so background images work as expected. */\n",
              "        background-size: auto;\n",
              "    }\n",
              "    progress:not([value]), progress:not([value])::-webkit-progress-bar {\n",
              "        background: repeating-linear-gradient(45deg, #7e7e7e, #7e7e7e 10px, #5c5c5c 10px, #5c5c5c 20px);\n",
              "    }\n",
              "    .progress-bar-interrupted, .progress-bar-interrupted::-webkit-progress-bar {\n",
              "        background: #F44336;\n",
              "    }\n",
              "</style>\n"
            ],
            "text/plain": [
              "<IPython.core.display.HTML object>"
            ]
          },
          "metadata": {},
          "output_type": "display_data"
        },
        {
          "data": {
            "text/html": [],
            "text/plain": [
              "<IPython.core.display.HTML object>"
            ]
          },
          "metadata": {},
          "output_type": "display_data"
        },
        {
          "data": {
            "text/html": [
              "\n",
              "<style>\n",
              "    /* Turns off some styling */\n",
              "    progress {\n",
              "        /* gets rid of default border in Firefox and Opera. */\n",
              "        border: none;\n",
              "        /* Needs to be in here for Safari polyfill so background images work as expected. */\n",
              "        background-size: auto;\n",
              "    }\n",
              "    progress:not([value]), progress:not([value])::-webkit-progress-bar {\n",
              "        background: repeating-linear-gradient(45deg, #7e7e7e, #7e7e7e 10px, #5c5c5c 10px, #5c5c5c 20px);\n",
              "    }\n",
              "    .progress-bar-interrupted, .progress-bar-interrupted::-webkit-progress-bar {\n",
              "        background: #F44336;\n",
              "    }\n",
              "</style>\n"
            ],
            "text/plain": [
              "<IPython.core.display.HTML object>"
            ]
          },
          "metadata": {},
          "output_type": "display_data"
        },
        {
          "data": {
            "text/html": [],
            "text/plain": [
              "<IPython.core.display.HTML object>"
            ]
          },
          "metadata": {},
          "output_type": "display_data"
        },
        {
          "data": {
            "text/html": [
              "\n",
              "<style>\n",
              "    /* Turns off some styling */\n",
              "    progress {\n",
              "        /* gets rid of default border in Firefox and Opera. */\n",
              "        border: none;\n",
              "        /* Needs to be in here for Safari polyfill so background images work as expected. */\n",
              "        background-size: auto;\n",
              "    }\n",
              "    progress:not([value]), progress:not([value])::-webkit-progress-bar {\n",
              "        background: repeating-linear-gradient(45deg, #7e7e7e, #7e7e7e 10px, #5c5c5c 10px, #5c5c5c 20px);\n",
              "    }\n",
              "    .progress-bar-interrupted, .progress-bar-interrupted::-webkit-progress-bar {\n",
              "        background: #F44336;\n",
              "    }\n",
              "</style>\n"
            ],
            "text/plain": [
              "<IPython.core.display.HTML object>"
            ]
          },
          "metadata": {},
          "output_type": "display_data"
        },
        {
          "data": {
            "text/html": [],
            "text/plain": [
              "<IPython.core.display.HTML object>"
            ]
          },
          "metadata": {},
          "output_type": "display_data"
        },
        {
          "data": {
            "text/html": [
              "\n",
              "<style>\n",
              "    /* Turns off some styling */\n",
              "    progress {\n",
              "        /* gets rid of default border in Firefox and Opera. */\n",
              "        border: none;\n",
              "        /* Needs to be in here for Safari polyfill so background images work as expected. */\n",
              "        background-size: auto;\n",
              "    }\n",
              "    progress:not([value]), progress:not([value])::-webkit-progress-bar {\n",
              "        background: repeating-linear-gradient(45deg, #7e7e7e, #7e7e7e 10px, #5c5c5c 10px, #5c5c5c 20px);\n",
              "    }\n",
              "    .progress-bar-interrupted, .progress-bar-interrupted::-webkit-progress-bar {\n",
              "        background: #F44336;\n",
              "    }\n",
              "</style>\n"
            ],
            "text/plain": [
              "<IPython.core.display.HTML object>"
            ]
          },
          "metadata": {},
          "output_type": "display_data"
        },
        {
          "data": {
            "text/html": [],
            "text/plain": [
              "<IPython.core.display.HTML object>"
            ]
          },
          "metadata": {},
          "output_type": "display_data"
        },
        {
          "data": {
            "text/html": [
              "\n",
              "<style>\n",
              "    /* Turns off some styling */\n",
              "    progress {\n",
              "        /* gets rid of default border in Firefox and Opera. */\n",
              "        border: none;\n",
              "        /* Needs to be in here for Safari polyfill so background images work as expected. */\n",
              "        background-size: auto;\n",
              "    }\n",
              "    progress:not([value]), progress:not([value])::-webkit-progress-bar {\n",
              "        background: repeating-linear-gradient(45deg, #7e7e7e, #7e7e7e 10px, #5c5c5c 10px, #5c5c5c 20px);\n",
              "    }\n",
              "    .progress-bar-interrupted, .progress-bar-interrupted::-webkit-progress-bar {\n",
              "        background: #F44336;\n",
              "    }\n",
              "</style>\n"
            ],
            "text/plain": [
              "<IPython.core.display.HTML object>"
            ]
          },
          "metadata": {},
          "output_type": "display_data"
        },
        {
          "data": {
            "text/html": [],
            "text/plain": [
              "<IPython.core.display.HTML object>"
            ]
          },
          "metadata": {},
          "output_type": "display_data"
        }
      ],
      "source": [
        "btn_upload = widgets.FileUpload()\n",
        "out_pl = widgets.Output()\n",
        "lbl_pred = widgets.Label()\n",
        "\n",
        "def on_click_classify(change):\n",
        "    img = PILImage.create(btn_upload.value[-1].content.tobytes())\n",
        "    out_pl.clear_output()\n",
        "    with out_pl: display(img.to_thumb(128,128))\n",
        "    pred,pred_idx,probs = learn_inf.predict(img)\n",
        "    lbl_pred.value = f'Prediction: {pred}; Probability: {probs[pred_idx]:.04f}'\n",
        "\n",
        "btn_run = widgets.Button(description='Classify')\n",
        "btn_run.on_click(on_click_classify)\n",
        "\n",
        "\n",
        "VBox([widgets.Label('Select your bear! Find which kind of bear it is: grizzly, black, or teddy?'),\n",
        "      btn_upload, btn_run, out_pl, lbl_pred])"
      ]
    }
  ],
  "metadata": {
    "colab": {
      "gpuType": "T4",
      "provenance": []
    },
    "kernelspec": {
      "display_name": "Python 3",
      "name": "python3"
    },
    "language_info": {
      "name": "python"
    },
    "widgets": {
      "application/vnd.jupyter.widget-state+json": {
        "0110beab16c84680a34631866bf52176": {
          "model_module": "@jupyter-widgets/controls",
          "model_module_version": "1.5.0",
          "model_name": "VBoxModel",
          "state": {
            "_dom_classes": [],
            "_model_module": "@jupyter-widgets/controls",
            "_model_module_version": "1.5.0",
            "_model_name": "VBoxModel",
            "_view_count": null,
            "_view_module": "@jupyter-widgets/controls",
            "_view_module_version": "1.5.0",
            "_view_name": "VBoxView",
            "box_style": "",
            "children": [
              "IPY_MODEL_8223646274ab43dcaa695848e03fd27e",
              "IPY_MODEL_844c16ed2c454399a11690f6dbab06d1",
              "IPY_MODEL_3bddc1c7aa384d8f8f4e8cfc72e3df5e",
              "IPY_MODEL_5dd6876d742c4eda87780bb4a9b724cf",
              "IPY_MODEL_a13628f0bb2b478990bfd36852f28099"
            ],
            "layout": "IPY_MODEL_c7b42e7c60e24f00a56bdcea4190e433"
          }
        },
        "35d1b27fd3284d0d8f4b77d3eaa29081": {
          "model_module": "@jupyter-widgets/base",
          "model_module_version": "1.2.0",
          "model_name": "LayoutModel",
          "state": {
            "_model_module": "@jupyter-widgets/base",
            "_model_module_version": "1.2.0",
            "_model_name": "LayoutModel",
            "_view_count": null,
            "_view_module": "@jupyter-widgets/base",
            "_view_module_version": "1.2.0",
            "_view_name": "LayoutView",
            "align_content": null,
            "align_items": null,
            "align_self": null,
            "border": null,
            "bottom": null,
            "display": null,
            "flex": null,
            "flex_flow": null,
            "grid_area": null,
            "grid_auto_columns": null,
            "grid_auto_flow": null,
            "grid_auto_rows": null,
            "grid_column": null,
            "grid_gap": null,
            "grid_row": null,
            "grid_template_areas": null,
            "grid_template_columns": null,
            "grid_template_rows": null,
            "height": null,
            "justify_content": null,
            "justify_items": null,
            "left": null,
            "margin": null,
            "max_height": null,
            "max_width": null,
            "min_height": null,
            "min_width": null,
            "object_fit": null,
            "object_position": null,
            "order": null,
            "overflow": null,
            "overflow_x": null,
            "overflow_y": null,
            "padding": null,
            "right": null,
            "top": null,
            "visibility": null,
            "width": null
          }
        },
        "3bddc1c7aa384d8f8f4e8cfc72e3df5e": {
          "model_module": "@jupyter-widgets/controls",
          "model_module_version": "1.5.0",
          "model_name": "ButtonModel",
          "state": {
            "_dom_classes": [],
            "_model_module": "@jupyter-widgets/controls",
            "_model_module_version": "1.5.0",
            "_model_name": "ButtonModel",
            "_view_count": null,
            "_view_module": "@jupyter-widgets/controls",
            "_view_module_version": "1.5.0",
            "_view_name": "ButtonView",
            "button_style": "",
            "description": "Classify",
            "disabled": false,
            "icon": "",
            "layout": "IPY_MODEL_ad8b474d4d93404ba19ef0ee17f4b74f",
            "style": "IPY_MODEL_675b40203cda473291e836252fb3bbdb",
            "tooltip": ""
          }
        },
        "4980ebd8ffba4171969e80bdd83f4a0f": {
          "model_module": "@jupyter-widgets/base",
          "model_module_version": "1.2.0",
          "model_name": "LayoutModel",
          "state": {
            "_model_module": "@jupyter-widgets/base",
            "_model_module_version": "1.2.0",
            "_model_name": "LayoutModel",
            "_view_count": null,
            "_view_module": "@jupyter-widgets/base",
            "_view_module_version": "1.2.0",
            "_view_name": "LayoutView",
            "align_content": null,
            "align_items": null,
            "align_self": null,
            "border": null,
            "bottom": null,
            "display": null,
            "flex": null,
            "flex_flow": null,
            "grid_area": null,
            "grid_auto_columns": null,
            "grid_auto_flow": null,
            "grid_auto_rows": null,
            "grid_column": null,
            "grid_gap": null,
            "grid_row": null,
            "grid_template_areas": null,
            "grid_template_columns": null,
            "grid_template_rows": null,
            "height": null,
            "justify_content": null,
            "justify_items": null,
            "left": null,
            "margin": null,
            "max_height": null,
            "max_width": null,
            "min_height": null,
            "min_width": null,
            "object_fit": null,
            "object_position": null,
            "order": null,
            "overflow": null,
            "overflow_x": null,
            "overflow_y": null,
            "padding": null,
            "right": null,
            "top": null,
            "visibility": null,
            "width": null
          }
        },
        "5dd6876d742c4eda87780bb4a9b724cf": {
          "model_module": "@jupyter-widgets/output",
          "model_module_version": "1.0.0",
          "model_name": "OutputModel",
          "state": {
            "_dom_classes": [],
            "_model_module": "@jupyter-widgets/output",
            "_model_module_version": "1.0.0",
            "_model_name": "OutputModel",
            "_view_count": null,
            "_view_module": "@jupyter-widgets/output",
            "_view_module_version": "1.0.0",
            "_view_name": "OutputView",
            "layout": "IPY_MODEL_4980ebd8ffba4171969e80bdd83f4a0f",
            "msg_id": "",
            "outputs": [
              {
                "data": {
                  "image/png": "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\n",
                  "text/plain": "<PIL.Image.Image image mode=RGB size=95x128>"
                },
                "metadata": {},
                "output_type": "display_data"
              }
            ]
          }
        },
        "675b40203cda473291e836252fb3bbdb": {
          "model_module": "@jupyter-widgets/controls",
          "model_module_version": "1.5.0",
          "model_name": "ButtonStyleModel",
          "state": {
            "_model_module": "@jupyter-widgets/controls",
            "_model_module_version": "1.5.0",
            "_model_name": "ButtonStyleModel",
            "_view_count": null,
            "_view_module": "@jupyter-widgets/base",
            "_view_module_version": "1.2.0",
            "_view_name": "StyleView",
            "button_color": null,
            "font_weight": ""
          }
        },
        "6f2e39ba39014dedaa082d8ce972779a": {
          "model_module": "@jupyter-widgets/base",
          "model_module_version": "1.2.0",
          "model_name": "LayoutModel",
          "state": {
            "_model_module": "@jupyter-widgets/base",
            "_model_module_version": "1.2.0",
            "_model_name": "LayoutModel",
            "_view_count": null,
            "_view_module": "@jupyter-widgets/base",
            "_view_module_version": "1.2.0",
            "_view_name": "LayoutView",
            "align_content": null,
            "align_items": null,
            "align_self": null,
            "border": null,
            "bottom": null,
            "display": null,
            "flex": null,
            "flex_flow": null,
            "grid_area": null,
            "grid_auto_columns": null,
            "grid_auto_flow": null,
            "grid_auto_rows": null,
            "grid_column": null,
            "grid_gap": null,
            "grid_row": null,
            "grid_template_areas": null,
            "grid_template_columns": null,
            "grid_template_rows": null,
            "height": null,
            "justify_content": null,
            "justify_items": null,
            "left": null,
            "margin": null,
            "max_height": null,
            "max_width": null,
            "min_height": null,
            "min_width": null,
            "object_fit": null,
            "object_position": null,
            "order": null,
            "overflow": null,
            "overflow_x": null,
            "overflow_y": null,
            "padding": null,
            "right": null,
            "top": null,
            "visibility": null,
            "width": null
          }
        },
        "8223646274ab43dcaa695848e03fd27e": {
          "model_module": "@jupyter-widgets/controls",
          "model_module_version": "1.5.0",
          "model_name": "LabelModel",
          "state": {
            "_dom_classes": [],
            "_model_module": "@jupyter-widgets/controls",
            "_model_module_version": "1.5.0",
            "_model_name": "LabelModel",
            "_view_count": null,
            "_view_module": "@jupyter-widgets/controls",
            "_view_module_version": "1.5.0",
            "_view_name": "LabelView",
            "description": "",
            "description_tooltip": null,
            "layout": "IPY_MODEL_35d1b27fd3284d0d8f4b77d3eaa29081",
            "placeholder": "​",
            "style": "IPY_MODEL_c2c4b964e6f144eebac0bd9c063f2c0f",
            "value": "Select your bear!"
          }
        },
        "844c16ed2c454399a11690f6dbab06d1": {
          "model_module": "@jupyter-widgets/controls",
          "model_module_version": "1.5.0",
          "model_name": "FileUploadModel",
          "state": {
            "_counter": 6,
            "_dom_classes": [],
            "_model_module": "@jupyter-widgets/controls",
            "_model_module_version": "1.5.0",
            "_model_name": "FileUploadModel",
            "_view_count": null,
            "_view_module": "@jupyter-widgets/controls",
            "_view_module_version": "1.5.0",
            "_view_name": "FileUploadView",
            "accept": "",
            "button_style": "",
            "data": [
              null
            ],
            "description": "Upload",
            "description_tooltip": null,
            "disabled": false,
            "error": "",
            "icon": "upload",
            "layout": "IPY_MODEL_6f2e39ba39014dedaa082d8ce972779a",
            "metadata": [
              {
                "lastModified": 1687250159059,
                "name": "black-bear.jpeg",
                "size": 118072,
                "type": "image/jpeg"
              }
            ],
            "multiple": false,
            "style": "IPY_MODEL_c1f10dcf92544288b856d34c74805031"
          }
        },
        "a13628f0bb2b478990bfd36852f28099": {
          "model_module": "@jupyter-widgets/controls",
          "model_module_version": "1.5.0",
          "model_name": "LabelModel",
          "state": {
            "_dom_classes": [],
            "_model_module": "@jupyter-widgets/controls",
            "_model_module_version": "1.5.0",
            "_model_name": "LabelModel",
            "_view_count": null,
            "_view_module": "@jupyter-widgets/controls",
            "_view_module_version": "1.5.0",
            "_view_name": "LabelView",
            "description": "",
            "description_tooltip": null,
            "layout": "IPY_MODEL_a182cb6d61124b3397fb0bfb90060538",
            "placeholder": "​",
            "style": "IPY_MODEL_dc3876cedf6d43d49a20172149470d7d",
            "value": "Prediction: black; Probability: 1.0000"
          }
        },
        "a182cb6d61124b3397fb0bfb90060538": {
          "model_module": "@jupyter-widgets/base",
          "model_module_version": "1.2.0",
          "model_name": "LayoutModel",
          "state": {
            "_model_module": "@jupyter-widgets/base",
            "_model_module_version": "1.2.0",
            "_model_name": "LayoutModel",
            "_view_count": null,
            "_view_module": "@jupyter-widgets/base",
            "_view_module_version": "1.2.0",
            "_view_name": "LayoutView",
            "align_content": null,
            "align_items": null,
            "align_self": null,
            "border": null,
            "bottom": null,
            "display": null,
            "flex": null,
            "flex_flow": null,
            "grid_area": null,
            "grid_auto_columns": null,
            "grid_auto_flow": null,
            "grid_auto_rows": null,
            "grid_column": null,
            "grid_gap": null,
            "grid_row": null,
            "grid_template_areas": null,
            "grid_template_columns": null,
            "grid_template_rows": null,
            "height": null,
            "justify_content": null,
            "justify_items": null,
            "left": null,
            "margin": null,
            "max_height": null,
            "max_width": null,
            "min_height": null,
            "min_width": null,
            "object_fit": null,
            "object_position": null,
            "order": null,
            "overflow": null,
            "overflow_x": null,
            "overflow_y": null,
            "padding": null,
            "right": null,
            "top": null,
            "visibility": null,
            "width": null
          }
        },
        "ad8b474d4d93404ba19ef0ee17f4b74f": {
          "model_module": "@jupyter-widgets/base",
          "model_module_version": "1.2.0",
          "model_name": "LayoutModel",
          "state": {
            "_model_module": "@jupyter-widgets/base",
            "_model_module_version": "1.2.0",
            "_model_name": "LayoutModel",
            "_view_count": null,
            "_view_module": "@jupyter-widgets/base",
            "_view_module_version": "1.2.0",
            "_view_name": "LayoutView",
            "align_content": null,
            "align_items": null,
            "align_self": null,
            "border": null,
            "bottom": null,
            "display": null,
            "flex": null,
            "flex_flow": null,
            "grid_area": null,
            "grid_auto_columns": null,
            "grid_auto_flow": null,
            "grid_auto_rows": null,
            "grid_column": null,
            "grid_gap": null,
            "grid_row": null,
            "grid_template_areas": null,
            "grid_template_columns": null,
            "grid_template_rows": null,
            "height": null,
            "justify_content": null,
            "justify_items": null,
            "left": null,
            "margin": null,
            "max_height": null,
            "max_width": null,
            "min_height": null,
            "min_width": null,
            "object_fit": null,
            "object_position": null,
            "order": null,
            "overflow": null,
            "overflow_x": null,
            "overflow_y": null,
            "padding": null,
            "right": null,
            "top": null,
            "visibility": null,
            "width": null
          }
        },
        "c1f10dcf92544288b856d34c74805031": {
          "model_module": "@jupyter-widgets/controls",
          "model_module_version": "1.5.0",
          "model_name": "ButtonStyleModel",
          "state": {
            "_model_module": "@jupyter-widgets/controls",
            "_model_module_version": "1.5.0",
            "_model_name": "ButtonStyleModel",
            "_view_count": null,
            "_view_module": "@jupyter-widgets/base",
            "_view_module_version": "1.2.0",
            "_view_name": "StyleView",
            "button_color": null,
            "font_weight": ""
          }
        },
        "c2c4b964e6f144eebac0bd9c063f2c0f": {
          "model_module": "@jupyter-widgets/controls",
          "model_module_version": "1.5.0",
          "model_name": "DescriptionStyleModel",
          "state": {
            "_model_module": "@jupyter-widgets/controls",
            "_model_module_version": "1.5.0",
            "_model_name": "DescriptionStyleModel",
            "_view_count": null,
            "_view_module": "@jupyter-widgets/base",
            "_view_module_version": "1.2.0",
            "_view_name": "StyleView",
            "description_width": ""
          }
        },
        "c7b42e7c60e24f00a56bdcea4190e433": {
          "model_module": "@jupyter-widgets/base",
          "model_module_version": "1.2.0",
          "model_name": "LayoutModel",
          "state": {
            "_model_module": "@jupyter-widgets/base",
            "_model_module_version": "1.2.0",
            "_model_name": "LayoutModel",
            "_view_count": null,
            "_view_module": "@jupyter-widgets/base",
            "_view_module_version": "1.2.0",
            "_view_name": "LayoutView",
            "align_content": null,
            "align_items": null,
            "align_self": null,
            "border": null,
            "bottom": null,
            "display": null,
            "flex": null,
            "flex_flow": null,
            "grid_area": null,
            "grid_auto_columns": null,
            "grid_auto_flow": null,
            "grid_auto_rows": null,
            "grid_column": null,
            "grid_gap": null,
            "grid_row": null,
            "grid_template_areas": null,
            "grid_template_columns": null,
            "grid_template_rows": null,
            "height": null,
            "justify_content": null,
            "justify_items": null,
            "left": null,
            "margin": null,
            "max_height": null,
            "max_width": null,
            "min_height": null,
            "min_width": null,
            "object_fit": null,
            "object_position": null,
            "order": null,
            "overflow": null,
            "overflow_x": null,
            "overflow_y": null,
            "padding": null,
            "right": null,
            "top": null,
            "visibility": null,
            "width": null
          }
        },
        "dc3876cedf6d43d49a20172149470d7d": {
          "model_module": "@jupyter-widgets/controls",
          "model_module_version": "1.5.0",
          "model_name": "DescriptionStyleModel",
          "state": {
            "_model_module": "@jupyter-widgets/controls",
            "_model_module_version": "1.5.0",
            "_model_name": "DescriptionStyleModel",
            "_view_count": null,
            "_view_module": "@jupyter-widgets/base",
            "_view_module_version": "1.2.0",
            "_view_name": "StyleView",
            "description_width": ""
          }
        }
      }
    }
  },
  "nbformat": 4,
  "nbformat_minor": 0
}
